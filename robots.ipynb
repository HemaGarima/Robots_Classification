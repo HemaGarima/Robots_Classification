{
  "cells": [
    {
      "cell_type": "markdown",
      "metadata": {
        "id": "ScPd6juT13OB"
      },
      "source": [
        "# Classification of Robots from their conversation"
      ]
    },
    {
      "cell_type": "markdown",
      "metadata": {
        "id": "2B7cZOdk2DEZ"
      },
      "source": [
        "## **TASK 1** - Exploratory Data Analysis"
      ]
    },
    {
      "cell_type": "code",
      "execution_count": 1,
      "metadata": {
        "id": "JMoAmldi3Pmk"
      },
      "outputs": [],
      "source": [
        "import pandas as pd\n",
        "import numpy as np\n",
        "import matplotlib.pyplot as plt\n",
        "import seaborn as sns"
      ]
    },
    {
      "cell_type": "code",
      "execution_count": 2,
      "metadata": {
        "id": "fpCXRq843Tat"
      },
      "outputs": [],
      "source": [
        "df = pd.read_csv('robots.csv')"
      ]
    },
    {
      "cell_type": "code",
      "execution_count": 3,
      "metadata": {
        "id": "MjCrLbZSulE_"
      },
      "outputs": [],
      "source": [
        "import warnings\n",
        "warnings.filterwarnings('ignore')"
      ]
    },
    {
      "cell_type": "markdown",
      "metadata": {
        "id": "NT3xFfHj2X3l"
      },
      "source": [
        "<----------------Question 1----------------->"
      ]
    },
    {
      "cell_type": "code",
      "execution_count": 4,
      "metadata": {
        "colab": {
          "base_uri": "https://localhost:8080/",
          "height": 206
        },
        "id": "Pu2MgBllY6dR",
        "outputId": "275bcc2f-6d01-4b07-8dad-e1c6941c5e15"
      },
      "outputs": [
        {
          "data": {
            "text/html": [
              "<div>\n",
              "<style scoped>\n",
              "    .dataframe tbody tr th:only-of-type {\n",
              "        vertical-align: middle;\n",
              "    }\n",
              "\n",
              "    .dataframe tbody tr th {\n",
              "        vertical-align: top;\n",
              "    }\n",
              "\n",
              "    .dataframe thead th {\n",
              "        text-align: right;\n",
              "    }\n",
              "</style>\n",
              "<table border=\"1\" class=\"dataframe\">\n",
              "  <thead>\n",
              "    <tr style=\"text-align: right;\">\n",
              "      <th></th>\n",
              "      <th>source</th>\n",
              "      <th>num1</th>\n",
              "      <th>num2</th>\n",
              "      <th>num3</th>\n",
              "      <th>num4</th>\n",
              "      <th>num5</th>\n",
              "      <th>num6</th>\n",
              "      <th>num7</th>\n",
              "      <th>num8</th>\n",
              "      <th>num9</th>\n",
              "      <th>num10</th>\n",
              "    </tr>\n",
              "  </thead>\n",
              "  <tbody>\n",
              "    <tr>\n",
              "      <th>0</th>\n",
              "      <td>0</td>\n",
              "      <td>2</td>\n",
              "      <td>5</td>\n",
              "      <td>2</td>\n",
              "      <td>5</td>\n",
              "      <td>6</td>\n",
              "      <td>2</td>\n",
              "      <td>1</td>\n",
              "      <td>8</td>\n",
              "      <td>1</td>\n",
              "      <td>3</td>\n",
              "    </tr>\n",
              "    <tr>\n",
              "      <th>1</th>\n",
              "      <td>1</td>\n",
              "      <td>1747</td>\n",
              "      <td>1749</td>\n",
              "      <td>1751</td>\n",
              "      <td>1758</td>\n",
              "      <td>1765</td>\n",
              "      <td>1767</td>\n",
              "      <td>1772</td>\n",
              "      <td>1774</td>\n",
              "      <td>1783</td>\n",
              "      <td>1785</td>\n",
              "    </tr>\n",
              "    <tr>\n",
              "      <th>2</th>\n",
              "      <td>2</td>\n",
              "      <td>65056</td>\n",
              "      <td>195168</td>\n",
              "      <td>1561344</td>\n",
              "      <td>7806720</td>\n",
              "      <td>31226880</td>\n",
              "      <td>187361280</td>\n",
              "      <td>749445120</td>\n",
              "      <td>6745006080</td>\n",
              "      <td>6745006080</td>\n",
              "      <td>6745006080</td>\n",
              "    </tr>\n",
              "    <tr>\n",
              "      <th>3</th>\n",
              "      <td>3</td>\n",
              "      <td>2855</td>\n",
              "      <td>2860</td>\n",
              "      <td>2865</td>\n",
              "      <td>2870</td>\n",
              "      <td>2875</td>\n",
              "      <td>2880</td>\n",
              "      <td>2885</td>\n",
              "      <td>2890</td>\n",
              "      <td>2895</td>\n",
              "      <td>2900</td>\n",
              "    </tr>\n",
              "    <tr>\n",
              "      <th>4</th>\n",
              "      <td>4</td>\n",
              "      <td>11440</td>\n",
              "      <td>57200</td>\n",
              "      <td>286000</td>\n",
              "      <td>1430000</td>\n",
              "      <td>7150000</td>\n",
              "      <td>35750000</td>\n",
              "      <td>178750000</td>\n",
              "      <td>893750000</td>\n",
              "      <td>4468750000</td>\n",
              "      <td>22343750000</td>\n",
              "    </tr>\n",
              "  </tbody>\n",
              "</table>\n",
              "</div>"
            ],
            "text/plain": [
              "   source   num1    num2     num3     num4      num5       num6       num7  \\\n",
              "0       0      2       5        2        5         6          2          1   \n",
              "1       1   1747    1749     1751     1758      1765       1767       1772   \n",
              "2       2  65056  195168  1561344  7806720  31226880  187361280  749445120   \n",
              "3       3   2855    2860     2865     2870      2875       2880       2885   \n",
              "4       4  11440   57200   286000  1430000   7150000   35750000  178750000   \n",
              "\n",
              "         num8        num9        num10  \n",
              "0           8           1            3  \n",
              "1        1774        1783         1785  \n",
              "2  6745006080  6745006080   6745006080  \n",
              "3        2890        2895         2900  \n",
              "4   893750000  4468750000  22343750000  "
            ]
          },
          "execution_count": 4,
          "metadata": {},
          "output_type": "execute_result"
        }
      ],
      "source": [
        "df.head()"
      ]
    },
    {
      "cell_type": "code",
      "execution_count": 5,
      "metadata": {
        "id": "0eZD0lXJdWAg"
      },
      "outputs": [],
      "source": [
        "x = df['source'].nunique()"
      ]
    },
    {
      "cell_type": "code",
      "execution_count": 6,
      "metadata": {
        "colab": {
          "base_uri": "https://localhost:8080/"
        },
        "id": "-2nVA5Tu1S7c",
        "outputId": "4b731874-27b0-4083-fda3-c6f13f77e98d"
      },
      "outputs": [
        {
          "data": {
            "text/plain": [
              "5"
            ]
          },
          "execution_count": 6,
          "metadata": {},
          "output_type": "execute_result"
        }
      ],
      "source": [
        "x"
      ]
    },
    {
      "cell_type": "code",
      "execution_count": 7,
      "metadata": {
        "id": "xMA9UYmQu22U"
      },
      "outputs": [],
      "source": [
        "y = df['source'].value_counts()"
      ]
    },
    {
      "cell_type": "code",
      "execution_count": 8,
      "metadata": {
        "colab": {
          "base_uri": "https://localhost:8080/",
          "height": 272
        },
        "id": "nNPLXlRzu7z3",
        "outputId": "6d74368c-0415-47c2-a73c-92b1b7dc1f67"
      },
      "outputs": [
        {
          "data": {
            "text/plain": [
              "source\n",
              "0    100000\n",
              "1    100000\n",
              "2    100000\n",
              "3    100000\n",
              "4    100000\n",
              "Name: count, dtype: int64"
            ]
          },
          "execution_count": 8,
          "metadata": {},
          "output_type": "execute_result"
        }
      ],
      "source": [
        "y"
      ]
    },
    {
      "cell_type": "code",
      "execution_count": 9,
      "metadata": {
        "id": "snWFU_EjvAg0"
      },
      "outputs": [],
      "source": [
        "# 5 unique robots are present in the data set and the count of every robot label in the data set is 100000."
      ]
    },
    {
      "cell_type": "markdown",
      "metadata": {
        "id": "3KsytVPkv6Sj"
      },
      "source": [
        "<---------------------Question 2------------------------>"
      ]
    },
    {
      "cell_type": "code",
      "execution_count": 10,
      "metadata": {
        "colab": {
          "base_uri": "https://localhost:8080/",
          "height": 272
        },
        "id": "nbLwghfDv3sk",
        "outputId": "ee28bd48-baf5-44bf-d938-4df16ab63f33"
      },
      "outputs": [
        {
          "data": {
            "text/plain": [
              "source\n",
              "0    100000\n",
              "1    100000\n",
              "2    100000\n",
              "3    100000\n",
              "4    100000\n",
              "Name: count, dtype: int64"
            ]
          },
          "execution_count": 10,
          "metadata": {},
          "output_type": "execute_result"
        }
      ],
      "source": [
        "y"
      ]
    },
    {
      "cell_type": "code",
      "execution_count": 11,
      "metadata": {
        "colab": {
          "base_uri": "https://localhost:8080/"
        },
        "id": "bpU6poo1v-9b",
        "outputId": "31378fbb-210e-4577-d0d9-550f8b9c3383"
      },
      "outputs": [
        {
          "data": {
            "text/plain": [
              "array([100000, 100000, 100000, 100000, 100000], dtype=int64)"
            ]
          },
          "execution_count": 11,
          "metadata": {},
          "output_type": "execute_result"
        }
      ],
      "source": [
        "np.array(y)"
      ]
    },
    {
      "cell_type": "code",
      "execution_count": 12,
      "metadata": {
        "id": "pPL499aIwBo5"
      },
      "outputs": [],
      "source": [
        "x = np.unique(df['source'])"
      ]
    },
    {
      "cell_type": "code",
      "execution_count": 13,
      "metadata": {
        "colab": {
          "base_uri": "https://localhost:8080/"
        },
        "id": "uXNMkkr8wE8r",
        "outputId": "e97f799d-fad0-4266-dea3-4847afbfebdb"
      },
      "outputs": [
        {
          "data": {
            "text/plain": [
              "array([0, 1, 2, 3, 4], dtype=int64)"
            ]
          },
          "execution_count": 13,
          "metadata": {},
          "output_type": "execute_result"
        }
      ],
      "source": [
        "x"
      ]
    },
    {
      "cell_type": "code",
      "execution_count": 14,
      "metadata": {
        "colab": {
          "base_uri": "https://localhost:8080/",
          "height": 599
        },
        "id": "UPjHOgwDwGve",
        "outputId": "fcd7a9c0-3695-43af-b179-532ac5b181fe"
      },
      "outputs": [
        {
          "data": {
            "text/plain": [
              "<function matplotlib.pyplot.show(close=None, block=None)>"
            ]
          },
          "execution_count": 14,
          "metadata": {},
          "output_type": "execute_result"
        },
        {
          "data": {
            "image/png": "[encoded data removed]",
            "text/plain": [
              "<Figure size 640x480 with 1 Axes>"
            ]
          },
          "metadata": {},
          "output_type": "display_data"
        }
      ],
      "source": [
        "plt.bar(x , y , width = 0.4 , color = 'pink')\n",
        "plt.show"
      ]
    },
    {
      "cell_type": "code",
      "execution_count": 15,
      "metadata": {
        "id": "yz8No9QHwJnR"
      },
      "outputs": [],
      "source": [
        "# The distribution of each robot label in the data set is same , that is 100000 for each robot label ."
      ]
    },
    {
      "cell_type": "markdown",
      "metadata": {
        "id": "8K_cCxg_wP-N"
      },
      "source": [
        "<----------------------Question 3------------------------->"
      ]
    },
    {
      "cell_type": "code",
      "execution_count": 16,
      "metadata": {
        "colab": {
          "base_uri": "https://localhost:8080/",
          "height": 429
        },
        "id": "9DUJp2djwN2n",
        "outputId": "21a163bf-1488-4188-d658-2719c3f3305b"
      },
      "outputs": [
        {
          "data": {
            "text/plain": [
              "source    0\n",
              "num1      0\n",
              "num2      0\n",
              "num3      0\n",
              "num4      0\n",
              "num5      0\n",
              "num6      0\n",
              "num7      0\n",
              "num8      0\n",
              "num9      0\n",
              "num10     0\n",
              "dtype: int64"
            ]
          },
          "execution_count": 16,
          "metadata": {},
          "output_type": "execute_result"
        }
      ],
      "source": [
        "df.isna().sum()"
      ]
    },
    {
      "cell_type": "code",
      "execution_count": 17,
      "metadata": {
        "id": "gmrG7CTNwXZg"
      },
      "outputs": [],
      "source": [
        "# No , robots.csv has no missing values."
      ]
    },
    {
      "cell_type": "markdown",
      "metadata": {
        "id": "LLBYY78uwVJz"
      },
      "source": [
        "<--------------------Question 4------------------------>"
      ]
    },
    {
      "cell_type": "code",
      "execution_count": 18,
      "metadata": {
        "colab": {
          "base_uri": "https://localhost:8080/",
          "height": 272
        },
        "id": "lgrx-_wPwTrQ",
        "outputId": "0a648eb4-ac19-49e0-f780-c202d94d9e75"
      },
      "outputs": [
        {
          "data": {
            "text/plain": [
              "source\n",
              "0    100000\n",
              "1    100000\n",
              "2    100000\n",
              "3    100000\n",
              "4    100000\n",
              "Name: count, dtype: int64"
            ]
          },
          "execution_count": 18,
          "metadata": {},
          "output_type": "execute_result"
        }
      ],
      "source": [
        "y"
      ]
    },
    {
      "cell_type": "code",
      "execution_count": 19,
      "metadata": {
        "colab": {
          "base_uri": "https://localhost:8080/",
          "height": 599
        },
        "id": "2kz1VdSEwffP",
        "outputId": "f5fad2c7-3c0b-4b35-96ea-8d97bc1ce0df"
      },
      "outputs": [
        {
          "data": {
            "text/plain": [
              "<function matplotlib.pyplot.show(close=None, block=None)>"
            ]
          },
          "execution_count": 19,
          "metadata": {},
          "output_type": "execute_result"
        },
        {
          "data": {
            "image/png": "[encoded data removed]",
            "text/plain": [
              "<Figure size 640x480 with 1 Axes>"
            ]
          },
          "metadata": {},
          "output_type": "display_data"
        }
      ],
      "source": [
        "plt.bar(x , y , width = 0.4 , color = 'red')\n",
        "plt.show"
      ]
    },
    {
      "cell_type": "code",
      "execution_count": 20,
      "metadata": {
        "id": "kqk2Tb4gwiW7"
      },
      "outputs": [],
      "source": [
        "# dataset is 100% balanced in terms of robot labels.There are 1 lakh samples for each robot label."
      ]
    },
    {
      "cell_type": "markdown",
      "metadata": {
        "id": "JkANp6k-wnqA"
      },
      "source": [
        "<------------------Question 5-------------------->"
      ]
    },
    {
      "cell_type": "code",
      "execution_count": 21,
      "metadata": {
        "id": "JbKZMyhmwmnM"
      },
      "outputs": [],
      "source": [
        "corr_matrix = df.corr()"
      ]
    },
    {
      "cell_type": "code",
      "execution_count": 22,
      "metadata": {
        "colab": {
          "base_uri": "https://localhost:8080/",
          "height": 394
        },
        "id": "FDMZn3Y9wsCH",
        "outputId": "c8dca54f-8811-47ef-bddf-3a01ffefe477"
      },
      "outputs": [
        {
          "data": {
            "text/html": [
              "<div>\n",
              "<style scoped>\n",
              "    .dataframe tbody tr th:only-of-type {\n",
              "        vertical-align: middle;\n",
              "    }\n",
              "\n",
              "    .dataframe tbody tr th {\n",
              "        vertical-align: top;\n",
              "    }\n",
              "\n",
              "    .dataframe thead th {\n",
              "        text-align: right;\n",
              "    }\n",
              "</style>\n",
              "<table border=\"1\" class=\"dataframe\">\n",
              "  <thead>\n",
              "    <tr style=\"text-align: right;\">\n",
              "      <th></th>\n",
              "      <th>source</th>\n",
              "      <th>num1</th>\n",
              "      <th>num2</th>\n",
              "      <th>num3</th>\n",
              "      <th>num4</th>\n",
              "      <th>num5</th>\n",
              "      <th>num6</th>\n",
              "      <th>num7</th>\n",
              "      <th>num8</th>\n",
              "      <th>num9</th>\n",
              "      <th>num10</th>\n",
              "    </tr>\n",
              "  </thead>\n",
              "  <tbody>\n",
              "    <tr>\n",
              "      <th>source</th>\n",
              "      <td>1.000000</td>\n",
              "      <td>0.449585</td>\n",
              "      <td>0.391486</td>\n",
              "      <td>0.351900</td>\n",
              "      <td>0.316837</td>\n",
              "      <td>0.286384</td>\n",
              "      <td>0.257502</td>\n",
              "      <td>0.230477</td>\n",
              "      <td>0.205092</td>\n",
              "      <td>0.184409</td>\n",
              "      <td>0.163109</td>\n",
              "    </tr>\n",
              "    <tr>\n",
              "      <th>num1</th>\n",
              "      <td>0.449585</td>\n",
              "      <td>1.000000</td>\n",
              "      <td>0.899444</td>\n",
              "      <td>0.814140</td>\n",
              "      <td>0.735624</td>\n",
              "      <td>0.663794</td>\n",
              "      <td>0.594404</td>\n",
              "      <td>0.530682</td>\n",
              "      <td>0.472419</td>\n",
              "      <td>0.427442</td>\n",
              "      <td>0.380144</td>\n",
              "    </tr>\n",
              "    <tr>\n",
              "      <th>num2</th>\n",
              "      <td>0.391486</td>\n",
              "      <td>0.899444</td>\n",
              "      <td>1.000000</td>\n",
              "      <td>0.906938</td>\n",
              "      <td>0.820335</td>\n",
              "      <td>0.740304</td>\n",
              "      <td>0.662783</td>\n",
              "      <td>0.591695</td>\n",
              "      <td>0.526765</td>\n",
              "      <td>0.476338</td>\n",
              "      <td>0.424486</td>\n",
              "    </tr>\n",
              "    <tr>\n",
              "      <th>num3</th>\n",
              "      <td>0.351900</td>\n",
              "      <td>0.814140</td>\n",
              "      <td>0.906938</td>\n",
              "      <td>1.000000</td>\n",
              "      <td>0.904987</td>\n",
              "      <td>0.815153</td>\n",
              "      <td>0.731936</td>\n",
              "      <td>0.653879</td>\n",
              "      <td>0.582988</td>\n",
              "      <td>0.528631</td>\n",
              "      <td>0.471650</td>\n",
              "    </tr>\n",
              "    <tr>\n",
              "      <th>num4</th>\n",
              "      <td>0.316837</td>\n",
              "      <td>0.735624</td>\n",
              "      <td>0.820335</td>\n",
              "      <td>0.904987</td>\n",
              "      <td>1.000000</td>\n",
              "      <td>0.899777</td>\n",
              "      <td>0.808522</td>\n",
              "      <td>0.722972</td>\n",
              "      <td>0.645616</td>\n",
              "      <td>0.585961</td>\n",
              "      <td>0.522628</td>\n",
              "    </tr>\n",
              "    <tr>\n",
              "      <th>num5</th>\n",
              "      <td>0.286384</td>\n",
              "      <td>0.663794</td>\n",
              "      <td>0.740304</td>\n",
              "      <td>0.815153</td>\n",
              "      <td>0.899777</td>\n",
              "      <td>1.000000</td>\n",
              "      <td>0.896921</td>\n",
              "      <td>0.802180</td>\n",
              "      <td>0.717516</td>\n",
              "      <td>0.650912</td>\n",
              "      <td>0.579083</td>\n",
              "    </tr>\n",
              "    <tr>\n",
              "      <th>num6</th>\n",
              "      <td>0.257502</td>\n",
              "      <td>0.594404</td>\n",
              "      <td>0.662783</td>\n",
              "      <td>0.731936</td>\n",
              "      <td>0.808522</td>\n",
              "      <td>0.896921</td>\n",
              "      <td>1.000000</td>\n",
              "      <td>0.897721</td>\n",
              "      <td>0.806705</td>\n",
              "      <td>0.728375</td>\n",
              "      <td>0.650054</td>\n",
              "    </tr>\n",
              "    <tr>\n",
              "      <th>num7</th>\n",
              "      <td>0.230477</td>\n",
              "      <td>0.530682</td>\n",
              "      <td>0.591695</td>\n",
              "      <td>0.653879</td>\n",
              "      <td>0.722972</td>\n",
              "      <td>0.802180</td>\n",
              "      <td>0.897721</td>\n",
              "      <td>1.000000</td>\n",
              "      <td>0.900914</td>\n",
              "      <td>0.809904</td>\n",
              "      <td>0.719983</td>\n",
              "    </tr>\n",
              "    <tr>\n",
              "      <th>num8</th>\n",
              "      <td>0.205092</td>\n",
              "      <td>0.472419</td>\n",
              "      <td>0.526765</td>\n",
              "      <td>0.582988</td>\n",
              "      <td>0.645616</td>\n",
              "      <td>0.717516</td>\n",
              "      <td>0.806705</td>\n",
              "      <td>0.900914</td>\n",
              "      <td>1.000000</td>\n",
              "      <td>0.897590</td>\n",
              "      <td>0.800451</td>\n",
              "    </tr>\n",
              "    <tr>\n",
              "      <th>num9</th>\n",
              "      <td>0.184409</td>\n",
              "      <td>0.427442</td>\n",
              "      <td>0.476338</td>\n",
              "      <td>0.528631</td>\n",
              "      <td>0.585961</td>\n",
              "      <td>0.650912</td>\n",
              "      <td>0.728375</td>\n",
              "      <td>0.809904</td>\n",
              "      <td>0.897590</td>\n",
              "      <td>1.000000</td>\n",
              "      <td>0.896402</td>\n",
              "    </tr>\n",
              "    <tr>\n",
              "      <th>num10</th>\n",
              "      <td>0.163109</td>\n",
              "      <td>0.380144</td>\n",
              "      <td>0.424486</td>\n",
              "      <td>0.471650</td>\n",
              "      <td>0.522628</td>\n",
              "      <td>0.579083</td>\n",
              "      <td>0.650054</td>\n",
              "      <td>0.719983</td>\n",
              "      <td>0.800451</td>\n",
              "      <td>0.896402</td>\n",
              "      <td>1.000000</td>\n",
              "    </tr>\n",
              "  </tbody>\n",
              "</table>\n",
              "</div>"
            ],
            "text/plain": [
              "          source      num1      num2      num3      num4      num5      num6  \\\n",
              "source  1.000000  0.449585  0.391486  0.351900  0.316837  0.286384  0.257502   \n",
              "num1    0.449585  1.000000  0.899444  0.814140  0.735624  0.663794  0.594404   \n",
              "num2    0.391486  0.899444  1.000000  0.906938  0.820335  0.740304  0.662783   \n",
              "num3    0.351900  0.814140  0.906938  1.000000  0.904987  0.815153  0.731936   \n",
              "num4    0.316837  0.735624  0.820335  0.904987  1.000000  0.899777  0.808522   \n",
              "num5    0.286384  0.663794  0.740304  0.815153  0.899777  1.000000  0.896921   \n",
              "num6    0.257502  0.594404  0.662783  0.731936  0.808522  0.896921  1.000000   \n",
              "num7    0.230477  0.530682  0.591695  0.653879  0.722972  0.802180  0.897721   \n",
              "num8    0.205092  0.472419  0.526765  0.582988  0.645616  0.717516  0.806705   \n",
              "num9    0.184409  0.427442  0.476338  0.528631  0.585961  0.650912  0.728375   \n",
              "num10   0.163109  0.380144  0.424486  0.471650  0.522628  0.579083  0.650054   \n",
              "\n",
              "            num7      num8      num9     num10  \n",
              "source  0.230477  0.205092  0.184409  0.163109  \n",
              "num1    0.530682  0.472419  0.427442  0.380144  \n",
              "num2    0.591695  0.526765  0.476338  0.424486  \n",
              "num3    0.653879  0.582988  0.528631  0.471650  \n",
              "num4    0.722972  0.645616  0.585961  0.522628  \n",
              "num5    0.802180  0.717516  0.650912  0.579083  \n",
              "num6    0.897721  0.806705  0.728375  0.650054  \n",
              "num7    1.000000  0.900914  0.809904  0.719983  \n",
              "num8    0.900914  1.000000  0.897590  0.800451  \n",
              "num9    0.809904  0.897590  1.000000  0.896402  \n",
              "num10   0.719983  0.800451  0.896402  1.000000  "
            ]
          },
          "execution_count": 22,
          "metadata": {},
          "output_type": "execute_result"
        }
      ],
      "source": [
        "corr_matrix"
      ]
    },
    {
      "cell_type": "code",
      "execution_count": 23,
      "metadata": {
        "colab": {
          "base_uri": "https://localhost:8080/",
          "height": 487
        },
        "id": "T_k_vnm6wugL",
        "outputId": "13017060-1c85-4604-aac6-f57f9edbf78c"
      },
      "outputs": [
        {
          "data": {
            "text/plain": [
              "<Axes: >"
            ]
          },
          "execution_count": 23,
          "metadata": {},
          "output_type": "execute_result"
        },
        {
          "data": {
            "image/png": "[encoded data removed]",
            "text/plain": [
              "<Figure size 640x480 with 2 Axes>"
            ]
          },
          "metadata": {},
          "output_type": "display_data"
        }
      ],
      "source": [
        "sns.heatmap(corr_matrix)"
      ]
    },
    {
      "cell_type": "code",
      "execution_count": 24,
      "metadata": {
        "id": "P4ACWNJkwx6A"
      },
      "outputs": [],
      "source": [
        "# Yes , there is a correlation or pattern between the numbers in the sequence spoken by each robot.\n",
        "# Light colors indicate stronger correlations , while dark colors indicate weaker correlations."
      ]
    },
    {
      "cell_type": "markdown",
      "metadata": {
        "id": "MqnH9K7_w6Aj"
      },
      "source": [
        "# **TASK 2** - Classification"
      ]
    },
    {
      "cell_type": "code",
      "execution_count": 25,
      "metadata": {
        "id": "3OSRB6S8w3ic"
      },
      "outputs": [],
      "source": [
        "from sklearn.model_selection import train_test_split"
      ]
    },
    {
      "cell_type": "code",
      "execution_count": 26,
      "metadata": {
        "id": "P-vZX7AkxEo_"
      },
      "outputs": [],
      "source": [
        "Y = df['source']"
      ]
    },
    {
      "cell_type": "code",
      "execution_count": 27,
      "metadata": {
        "colab": {
          "base_uri": "https://localhost:8080/",
          "height": 458
        },
        "id": "zCJv7TdaxGbv",
        "outputId": "c6f84b9c-8da2-4d8b-e56c-5a7379624a22"
      },
      "outputs": [
        {
          "data": {
            "text/plain": [
              "0         0\n",
              "1         1\n",
              "2         2\n",
              "3         3\n",
              "4         4\n",
              "         ..\n",
              "499995    0\n",
              "499996    1\n",
              "499997    2\n",
              "499998    3\n",
              "499999    4\n",
              "Name: source, Length: 500000, dtype: int64"
            ]
          },
          "execution_count": 27,
          "metadata": {},
          "output_type": "execute_result"
        }
      ],
      "source": [
        "Y"
      ]
    },
    {
      "cell_type": "code",
      "execution_count": 28,
      "metadata": {
        "id": "FOm4OgrQxKDP"
      },
      "outputs": [],
      "source": [
        "X = df.drop(columns = 'source')"
      ]
    },
    {
      "cell_type": "code",
      "execution_count": 29,
      "metadata": {
        "colab": {
          "base_uri": "https://localhost:8080/",
          "height": 206
        },
        "id": "RVJlT0IIxNPh",
        "outputId": "2f25c4a9-874f-4306-a0cf-9ad2a4b0a7fb"
      },
      "outputs": [
        {
          "data": {
            "text/html": [
              "<div>\n",
              "<style scoped>\n",
              "    .dataframe tbody tr th:only-of-type {\n",
              "        vertical-align: middle;\n",
              "    }\n",
              "\n",
              "    .dataframe tbody tr th {\n",
              "        vertical-align: top;\n",
              "    }\n",
              "\n",
              "    .dataframe thead th {\n",
              "        text-align: right;\n",
              "    }\n",
              "</style>\n",
              "<table border=\"1\" class=\"dataframe\">\n",
              "  <thead>\n",
              "    <tr style=\"text-align: right;\">\n",
              "      <th></th>\n",
              "      <th>num1</th>\n",
              "      <th>num2</th>\n",
              "      <th>num3</th>\n",
              "      <th>num4</th>\n",
              "      <th>num5</th>\n",
              "      <th>num6</th>\n",
              "      <th>num7</th>\n",
              "      <th>num8</th>\n",
              "      <th>num9</th>\n",
              "      <th>num10</th>\n",
              "    </tr>\n",
              "  </thead>\n",
              "  <tbody>\n",
              "    <tr>\n",
              "      <th>0</th>\n",
              "      <td>2</td>\n",
              "      <td>5</td>\n",
              "      <td>2</td>\n",
              "      <td>5</td>\n",
              "      <td>6</td>\n",
              "      <td>2</td>\n",
              "      <td>1</td>\n",
              "      <td>8</td>\n",
              "      <td>1</td>\n",
              "      <td>3</td>\n",
              "    </tr>\n",
              "    <tr>\n",
              "      <th>1</th>\n",
              "      <td>1747</td>\n",
              "      <td>1749</td>\n",
              "      <td>1751</td>\n",
              "      <td>1758</td>\n",
              "      <td>1765</td>\n",
              "      <td>1767</td>\n",
              "      <td>1772</td>\n",
              "      <td>1774</td>\n",
              "      <td>1783</td>\n",
              "      <td>1785</td>\n",
              "    </tr>\n",
              "    <tr>\n",
              "      <th>2</th>\n",
              "      <td>65056</td>\n",
              "      <td>195168</td>\n",
              "      <td>1561344</td>\n",
              "      <td>7806720</td>\n",
              "      <td>31226880</td>\n",
              "      <td>187361280</td>\n",
              "      <td>749445120</td>\n",
              "      <td>6745006080</td>\n",
              "      <td>6745006080</td>\n",
              "      <td>6745006080</td>\n",
              "    </tr>\n",
              "    <tr>\n",
              "      <th>3</th>\n",
              "      <td>2855</td>\n",
              "      <td>2860</td>\n",
              "      <td>2865</td>\n",
              "      <td>2870</td>\n",
              "      <td>2875</td>\n",
              "      <td>2880</td>\n",
              "      <td>2885</td>\n",
              "      <td>2890</td>\n",
              "      <td>2895</td>\n",
              "      <td>2900</td>\n",
              "    </tr>\n",
              "    <tr>\n",
              "      <th>4</th>\n",
              "      <td>11440</td>\n",
              "      <td>57200</td>\n",
              "      <td>286000</td>\n",
              "      <td>1430000</td>\n",
              "      <td>7150000</td>\n",
              "      <td>35750000</td>\n",
              "      <td>178750000</td>\n",
              "      <td>893750000</td>\n",
              "      <td>4468750000</td>\n",
              "      <td>22343750000</td>\n",
              "    </tr>\n",
              "  </tbody>\n",
              "</table>\n",
              "</div>"
            ],
            "text/plain": [
              "    num1    num2     num3     num4      num5       num6       num7  \\\n",
              "0      2       5        2        5         6          2          1   \n",
              "1   1747    1749     1751     1758      1765       1767       1772   \n",
              "2  65056  195168  1561344  7806720  31226880  187361280  749445120   \n",
              "3   2855    2860     2865     2870      2875       2880       2885   \n",
              "4  11440   57200   286000  1430000   7150000   35750000  178750000   \n",
              "\n",
              "         num8        num9        num10  \n",
              "0           8           1            3  \n",
              "1        1774        1783         1785  \n",
              "2  6745006080  6745006080   6745006080  \n",
              "3        2890        2895         2900  \n",
              "4   893750000  4468750000  22343750000  "
            ]
          },
          "execution_count": 29,
          "metadata": {},
          "output_type": "execute_result"
        }
      ],
      "source": [
        "X.head(5)"
      ]
    },
    {
      "cell_type": "code",
      "execution_count": 30,
      "metadata": {
        "colab": {
          "base_uri": "https://localhost:8080/"
        },
        "id": "ccN48Zf_ahlI",
        "outputId": "f9650079-a85d-4dc8-bf77-6abaf0923890"
      },
      "outputs": [
        {
          "data": {
            "text/plain": [
              "(500000, 10)"
            ]
          },
          "execution_count": 30,
          "metadata": {},
          "output_type": "execute_result"
        }
      ],
      "source": [
        "X.shape"
      ]
    },
    {
      "cell_type": "code",
      "execution_count": 31,
      "metadata": {
        "id": "Ajr9I4OVxPpm"
      },
      "outputs": [],
      "source": [
        "X_train, X_test, Y_train, Y_test = train_test_split(X, Y, test_size=0.2, random_state = 42)"
      ]
    },
    {
      "cell_type": "code",
      "execution_count": 32,
      "metadata": {
        "colab": {
          "base_uri": "https://localhost:8080/"
        },
        "id": "KM7UcXvuxTHK",
        "outputId": "7ed246d7-4ab1-438f-e658-d3fe1cba22e9"
      },
      "outputs": [
        {
          "data": {
            "text/plain": [
              "((400000, 10), (400000,))"
            ]
          },
          "execution_count": 32,
          "metadata": {},
          "output_type": "execute_result"
        }
      ],
      "source": [
        "X_train.shape , Y_train.shape"
      ]
    },
    {
      "cell_type": "code",
      "execution_count": 33,
      "metadata": {
        "id": "YfA3sE5jxbGk"
      },
      "outputs": [],
      "source": [
        "X_train = np.array(X_train)"
      ]
    },
    {
      "cell_type": "code",
      "execution_count": 34,
      "metadata": {
        "colab": {
          "base_uri": "https://localhost:8080/"
        },
        "id": "hIyLzT2zxdfo",
        "outputId": "06769cbc-f08c-4a2f-819d-a3754fb3139a"
      },
      "outputs": [
        {
          "data": {
            "text/plain": [
              "(400000, 10)"
            ]
          },
          "execution_count": 34,
          "metadata": {},
          "output_type": "execute_result"
        }
      ],
      "source": [
        "X_train.shape"
      ]
    },
    {
      "cell_type": "code",
      "execution_count": 35,
      "metadata": {
        "colab": {
          "base_uri": "https://localhost:8080/"
        },
        "id": "HFhqD0TrxgDg",
        "outputId": "17001f73-d70b-40c2-b742-b783566c2126"
      },
      "outputs": [
        {
          "data": {
            "text/plain": [
              "array([[       9136,        9142,        9150, ...,        9184,\n",
              "               9186,        9187],\n",
              "       [       1860,        9300,       46500, ...,   145312500,\n",
              "          726562500,  3632812500],\n",
              "       [       8535,        8540,        8545, ...,        8570,\n",
              "               8575,        8580],\n",
              "       ...,\n",
              "       [        661,        5949,       41643, ...,     1249290,\n",
              "            4997160,    19988640],\n",
              "       [       7109,       28436,      113744, ...,  2579713920,\n",
              "         7739141760, 38695708800],\n",
              "       [       5271,        5276,        5281, ...,        5306,\n",
              "               5311,        5316]], dtype=int64)"
            ]
          },
          "execution_count": 35,
          "metadata": {},
          "output_type": "execute_result"
        }
      ],
      "source": [
        "X_train"
      ]
    },
    {
      "cell_type": "code",
      "execution_count": 36,
      "metadata": {
        "id": "bgJf-EgzxjMe"
      },
      "outputs": [],
      "source": [
        "X_test = np.array(X_test)"
      ]
    },
    {
      "cell_type": "code",
      "execution_count": 37,
      "metadata": {
        "colab": {
          "base_uri": "https://localhost:8080/"
        },
        "id": "W2S0uSBaxmo3",
        "outputId": "c491fc65-4498-478b-f5c3-897d6a1be80c"
      },
      "outputs": [
        {
          "data": {
            "text/plain": [
              "((400000, 10), (400000,))"
            ]
          },
          "execution_count": 37,
          "metadata": {},
          "output_type": "execute_result"
        }
      ],
      "source": [
        "X_train.shape,Y_train.shape"
      ]
    },
    {
      "cell_type": "code",
      "execution_count": 38,
      "metadata": {
        "colab": {
          "base_uri": "https://localhost:8080/",
          "height": 458
        },
        "id": "7LX_ySaYxpGn",
        "outputId": "1fcf7501-1cc2-41b5-804c-f4ca8926e77d"
      },
      "outputs": [
        {
          "data": {
            "text/plain": [
              "104241    1\n",
              "199676    1\n",
              "140199    4\n",
              "132814    4\n",
              "408697    2\n",
              "         ..\n",
              "66361     1\n",
              "497228    3\n",
              "152728    3\n",
              "50155     0\n",
              "240408    3\n",
              "Name: source, Length: 100000, dtype: int64"
            ]
          },
          "execution_count": 38,
          "metadata": {},
          "output_type": "execute_result"
        }
      ],
      "source": [
        "Y_test"
      ]
    },
    {
      "cell_type": "code",
      "execution_count": 39,
      "metadata": {
        "colab": {
          "base_uri": "https://localhost:8080/"
        },
        "id": "9L4mwPodxtA_",
        "outputId": "58a59b53-e75c-47af-860a-5aba18ce408c"
      },
      "outputs": [
        {
          "data": {
            "text/plain": [
              "((100000, 10), (100000,))"
            ]
          },
          "execution_count": 39,
          "metadata": {},
          "output_type": "execute_result"
        }
      ],
      "source": [
        "X_test.shape , Y_test.shape"
      ]
    },
    {
      "cell_type": "code",
      "execution_count": 40,
      "metadata": {
        "id": "hEDPkVsIxv-G"
      },
      "outputs": [],
      "source": [
        "from sklearn.tree import DecisionTreeClassifier"
      ]
    },
    {
      "cell_type": "code",
      "execution_count": 41,
      "metadata": {
        "id": "GoIk-jqfxyny"
      },
      "outputs": [],
      "source": [
        "model  = DecisionTreeClassifier(criterion='entropy')"
      ]
    },
    {
      "cell_type": "code",
      "execution_count": 42,
      "metadata": {
        "colab": {
          "base_uri": "https://localhost:8080/",
          "height": 74
        },
        "id": "VVwmAuQMx015",
        "outputId": "6ffad968-c97c-4d53-a3b2-8a43afa9beb7"
      },
      "outputs": [
        {
          "data": {
            "text/html": [
              "<style>#sk-container-id-1 {color: black;}#sk-container-id-1 pre{padding: 0;}#sk-container-id-1 div.sk-toggleable {background-color: white;}#sk-container-id-1 label.sk-toggleable__label {cursor: pointer;display: block;width: 100%;margin-bottom: 0;padding: 0.3em;box-sizing: border-box;text-align: center;}#sk-container-id-1 label.sk-toggleable__label-arrow:before {content: \"▸\";float: left;margin-right: 0.25em;color: #696969;}#sk-container-id-1 label.sk-toggleable__label-arrow:hover:before {color: black;}#sk-container-id-1 div.sk-estimator:hover label.sk-toggleable__label-arrow:before {color: black;}#sk-container-id-1 div.sk-toggleable__content {max-height: 0;max-width: 0;overflow: hidden;text-align: left;background-color: #f0f8ff;}#sk-container-id-1 div.sk-toggleable__content pre {margin: 0.2em;color: black;border-radius: 0.25em;background-color: #f0f8ff;}#sk-container-id-1 input.sk-toggleable__control:checked~div.sk-toggleable__content {max-height: 200px;max-width: 100%;overflow: auto;}#sk-container-id-1 input.sk-toggleable__control:checked~label.sk-toggleable__label-arrow:before {content: \"▾\";}#sk-container-id-1 div.sk-estimator input.sk-toggleable__control:checked~label.sk-toggleable__label {background-color: #d4ebff;}#sk-container-id-1 div.sk-label input.sk-toggleable__control:checked~label.sk-toggleable__label {background-color: #d4ebff;}#sk-container-id-1 input.sk-hidden--visually {border: 0;clip: rect(1px 1px 1px 1px);clip: rect(1px, 1px, 1px, 1px);height: 1px;margin: -1px;overflow: hidden;padding: 0;position: absolute;width: 1px;}#sk-container-id-1 div.sk-estimator {font-family: monospace;background-color: #f0f8ff;border: 1px dotted black;border-radius: 0.25em;box-sizing: border-box;margin-bottom: 0.5em;}#sk-container-id-1 div.sk-estimator:hover {background-color: #d4ebff;}#sk-container-id-1 div.sk-parallel-item::after {content: \"\";width: 100%;border-bottom: 1px solid gray;flex-grow: 1;}#sk-container-id-1 div.sk-label:hover label.sk-toggleable__label {background-color: #d4ebff;}#sk-container-id-1 div.sk-serial::before {content: \"\";position: absolute;border-left: 1px solid gray;box-sizing: border-box;top: 0;bottom: 0;left: 50%;z-index: 0;}#sk-container-id-1 div.sk-serial {display: flex;flex-direction: column;align-items: center;background-color: white;padding-right: 0.2em;padding-left: 0.2em;position: relative;}#sk-container-id-1 div.sk-item {position: relative;z-index: 1;}#sk-container-id-1 div.sk-parallel {display: flex;align-items: stretch;justify-content: center;background-color: white;position: relative;}#sk-container-id-1 div.sk-item::before, #sk-container-id-1 div.sk-parallel-item::before {content: \"\";position: absolute;border-left: 1px solid gray;box-sizing: border-box;top: 0;bottom: 0;left: 50%;z-index: -1;}#sk-container-id-1 div.sk-parallel-item {display: flex;flex-direction: column;z-index: 1;position: relative;background-color: white;}#sk-container-id-1 div.sk-parallel-item:first-child::after {align-self: flex-end;width: 50%;}#sk-container-id-1 div.sk-parallel-item:last-child::after {align-self: flex-start;width: 50%;}#sk-container-id-1 div.sk-parallel-item:only-child::after {width: 0;}#sk-container-id-1 div.sk-dashed-wrapped {border: 1px dashed gray;margin: 0 0.4em 0.5em 0.4em;box-sizing: border-box;padding-bottom: 0.4em;background-color: white;}#sk-container-id-1 div.sk-label label {font-family: monospace;font-weight: bold;display: inline-block;line-height: 1.2em;}#sk-container-id-1 div.sk-label-container {text-align: center;}#sk-container-id-1 div.sk-container {/* jupyter's `normalize.less` sets `[hidden] { display: none; }` but bootstrap.min.css set `[hidden] { display: none !important; }` so we also need the `!important` here to be able to override the default hidden behavior on the sphinx rendered scikit-learn.org. See: https://github.com/scikit-learn/scikit-learn/issues/21755 */display: inline-block !important;position: relative;}#sk-container-id-1 div.sk-text-repr-fallback {display: none;}</style><div id=\"sk-container-id-1\" class=\"sk-top-container\"><div class=\"sk-text-repr-fallback\"><pre>DecisionTreeClassifier(criterion=&#x27;entropy&#x27;)</pre><b>In a Jupyter environment, please rerun this cell to show the HTML representation or trust the notebook. <br />On GitHub, the HTML representation is unable to render, please try loading this page with nbviewer.org.</b></div><div class=\"sk-container\" hidden><div class=\"sk-item\"><div class=\"sk-estimator sk-toggleable\"><input class=\"sk-toggleable__control sk-hidden--visually\" id=\"sk-estimator-id-1\" type=\"checkbox\" checked><label for=\"sk-estimator-id-1\" class=\"sk-toggleable__label sk-toggleable__label-arrow\">DecisionTreeClassifier</label><div class=\"sk-toggleable__content\"><pre>DecisionTreeClassifier(criterion=&#x27;entropy&#x27;)</pre></div></div></div></div></div>"
            ],
            "text/plain": [
              "DecisionTreeClassifier(criterion='entropy')"
            ]
          },
          "execution_count": 42,
          "metadata": {},
          "output_type": "execute_result"
        }
      ],
      "source": [
        "model.fit(X_train, Y_train)"
      ]
    },
    {
      "cell_type": "code",
      "execution_count": null,
      "metadata": {
        "colab": {
          "base_uri": "https://localhost:8080/"
        },
        "id": "zysf7Boox6rJ",
        "outputId": "bdacfb6a-8c97-428c-fbd6-bddecfd10562"
      },
      "outputs": [
        {
          "data": {
            "text/plain": [
              "0.97322"
            ]
          },
          "execution_count": 45,
          "metadata": {},
          "output_type": "execute_result"
        }
      ],
      "source": [
        "model.score(X_test , Y_test)"
      ]
    },
    {
      "cell_type": "code",
      "execution_count": null,
      "metadata": {
        "colab": {
          "base_uri": "https://localhost:8080/"
        },
        "id": "VLesUP0Lx9gu",
        "outputId": "53ec4f99-2472-4e96-9bd9-76f96dec067b"
      },
      "outputs": [
        {
          "data": {
            "text/plain": [
              "array([1, 1, 4, ..., 3, 0, 3])"
            ]
          },
          "execution_count": 46,
          "metadata": {},
          "output_type": "execute_result"
        }
      ],
      "source": [
        "model.predict(X_test)"
      ]
    },
    {
      "cell_type": "code",
      "execution_count": null,
      "metadata": {
        "colab": {
          "base_uri": "https://localhost:8080/",
          "height": 458
        },
        "id": "LiIRhZvfx_ac",
        "outputId": "c9e306e6-024e-4709-fac0-6af62b4b6155"
      },
      "outputs": [
        {
          "data": {
            "text/html": [
              "<div>\n",
              "<style scoped>\n",
              "    .dataframe tbody tr th:only-of-type {\n",
              "        vertical-align: middle;\n",
              "    }\n",
              "\n",
              "    .dataframe tbody tr th {\n",
              "        vertical-align: top;\n",
              "    }\n",
              "\n",
              "    .dataframe thead th {\n",
              "        text-align: right;\n",
              "    }\n",
              "</style>\n",
              "<table border=\"1\" class=\"dataframe\">\n",
              "  <thead>\n",
              "    <tr style=\"text-align: right;\">\n",
              "      <th></th>\n",
              "      <th>source</th>\n",
              "    </tr>\n",
              "  </thead>\n",
              "  <tbody>\n",
              "    <tr>\n",
              "      <th>104241</th>\n",
              "      <td>1</td>\n",
              "    </tr>\n",
              "    <tr>\n",
              "      <th>199676</th>\n",
              "      <td>1</td>\n",
              "    </tr>\n",
              "    <tr>\n",
              "      <th>140199</th>\n",
              "      <td>4</td>\n",
              "    </tr>\n",
              "    <tr>\n",
              "      <th>132814</th>\n",
              "      <td>4</td>\n",
              "    </tr>\n",
              "    <tr>\n",
              "      <th>408697</th>\n",
              "      <td>2</td>\n",
              "    </tr>\n",
              "    <tr>\n",
              "      <th>...</th>\n",
              "      <td>...</td>\n",
              "    </tr>\n",
              "    <tr>\n",
              "      <th>66361</th>\n",
              "      <td>1</td>\n",
              "    </tr>\n",
              "    <tr>\n",
              "      <th>497228</th>\n",
              "      <td>3</td>\n",
              "    </tr>\n",
              "    <tr>\n",
              "      <th>152728</th>\n",
              "      <td>3</td>\n",
              "    </tr>\n",
              "    <tr>\n",
              "      <th>50155</th>\n",
              "      <td>0</td>\n",
              "    </tr>\n",
              "    <tr>\n",
              "      <th>240408</th>\n",
              "      <td>3</td>\n",
              "    </tr>\n",
              "  </tbody>\n",
              "</table>\n",
              "<p>100000 rows × 1 columns</p>\n",
              "</div><br><label><b>dtype:</b> int64</label>"
            ],
            "text/plain": [
              "104241    1\n",
              "199676    1\n",
              "140199    4\n",
              "132814    4\n",
              "408697    2\n",
              "         ..\n",
              "66361     1\n",
              "497228    3\n",
              "152728    3\n",
              "50155     0\n",
              "240408    3\n",
              "Name: source, Length: 100000, dtype: int64"
            ]
          },
          "execution_count": 47,
          "metadata": {},
          "output_type": "execute_result"
        }
      ],
      "source": [
        "Y_test"
      ]
    },
    {
      "cell_type": "code",
      "execution_count": 44,
      "metadata": {
        "id": "7y2i2lQsckPX"
      },
      "outputs": [],
      "source": [
        "from joblib import dump"
      ]
    },
    {
      "cell_type": "code",
      "execution_count": 45,
      "metadata": {
        "colab": {
          "base_uri": "https://localhost:8080/"
        },
        "id": "eGbR9kC3czSZ",
        "outputId": "455b1596-1c88-492a-c159-e2a7bc4f4599"
      },
      "outputs": [
        {
          "data": {
            "text/plain": [
              "['Robots.joblib']"
            ]
          },
          "execution_count": 45,
          "metadata": {},
          "output_type": "execute_result"
        }
      ],
      "source": [
        "dump(model , 'Robots.joblib')"
      ]
    },
    {
      "cell_type": "code",
      "execution_count": 46,
      "metadata": {
        "colab": {
          "base_uri": "https://localhost:8080/",
          "height": 206
        },
        "id": "gF3pLyzQc5LP",
        "outputId": "b42643e4-697f-4923-af5f-d0372999bcd9"
      },
      "outputs": [
        {
          "data": {
            "text/html": [
              "<div>\n",
              "<style scoped>\n",
              "    .dataframe tbody tr th:only-of-type {\n",
              "        vertical-align: middle;\n",
              "    }\n",
              "\n",
              "    .dataframe tbody tr th {\n",
              "        vertical-align: top;\n",
              "    }\n",
              "\n",
              "    .dataframe thead th {\n",
              "        text-align: right;\n",
              "    }\n",
              "</style>\n",
              "<table border=\"1\" class=\"dataframe\">\n",
              "  <thead>\n",
              "    <tr style=\"text-align: right;\">\n",
              "      <th></th>\n",
              "      <th>num1</th>\n",
              "      <th>num2</th>\n",
              "      <th>num3</th>\n",
              "      <th>num4</th>\n",
              "      <th>num5</th>\n",
              "      <th>num6</th>\n",
              "      <th>num7</th>\n",
              "      <th>num8</th>\n",
              "      <th>num9</th>\n",
              "      <th>num10</th>\n",
              "    </tr>\n",
              "  </thead>\n",
              "  <tbody>\n",
              "    <tr>\n",
              "      <th>0</th>\n",
              "      <td>2</td>\n",
              "      <td>5</td>\n",
              "      <td>2</td>\n",
              "      <td>5</td>\n",
              "      <td>6</td>\n",
              "      <td>2</td>\n",
              "      <td>1</td>\n",
              "      <td>8</td>\n",
              "      <td>1</td>\n",
              "      <td>3</td>\n",
              "    </tr>\n",
              "    <tr>\n",
              "      <th>1</th>\n",
              "      <td>1747</td>\n",
              "      <td>1749</td>\n",
              "      <td>1751</td>\n",
              "      <td>1758</td>\n",
              "      <td>1765</td>\n",
              "      <td>1767</td>\n",
              "      <td>1772</td>\n",
              "      <td>1774</td>\n",
              "      <td>1783</td>\n",
              "      <td>1785</td>\n",
              "    </tr>\n",
              "    <tr>\n",
              "      <th>2</th>\n",
              "      <td>65056</td>\n",
              "      <td>195168</td>\n",
              "      <td>1561344</td>\n",
              "      <td>7806720</td>\n",
              "      <td>31226880</td>\n",
              "      <td>187361280</td>\n",
              "      <td>749445120</td>\n",
              "      <td>6745006080</td>\n",
              "      <td>6745006080</td>\n",
              "      <td>6745006080</td>\n",
              "    </tr>\n",
              "    <tr>\n",
              "      <th>3</th>\n",
              "      <td>2855</td>\n",
              "      <td>2860</td>\n",
              "      <td>2865</td>\n",
              "      <td>2870</td>\n",
              "      <td>2875</td>\n",
              "      <td>2880</td>\n",
              "      <td>2885</td>\n",
              "      <td>2890</td>\n",
              "      <td>2895</td>\n",
              "      <td>2900</td>\n",
              "    </tr>\n",
              "    <tr>\n",
              "      <th>4</th>\n",
              "      <td>11440</td>\n",
              "      <td>57200</td>\n",
              "      <td>286000</td>\n",
              "      <td>1430000</td>\n",
              "      <td>7150000</td>\n",
              "      <td>35750000</td>\n",
              "      <td>178750000</td>\n",
              "      <td>893750000</td>\n",
              "      <td>4468750000</td>\n",
              "      <td>22343750000</td>\n",
              "    </tr>\n",
              "  </tbody>\n",
              "</table>\n",
              "</div>"
            ],
            "text/plain": [
              "    num1    num2     num3     num4      num5       num6       num7  \\\n",
              "0      2       5        2        5         6          2          1   \n",
              "1   1747    1749     1751     1758      1765       1767       1772   \n",
              "2  65056  195168  1561344  7806720  31226880  187361280  749445120   \n",
              "3   2855    2860     2865     2870      2875       2880       2885   \n",
              "4  11440   57200   286000  1430000   7150000   35750000  178750000   \n",
              "\n",
              "         num8        num9        num10  \n",
              "0           8           1            3  \n",
              "1        1774        1783         1785  \n",
              "2  6745006080  6745006080   6745006080  \n",
              "3        2890        2895         2900  \n",
              "4   893750000  4468750000  22343750000  "
            ]
          },
          "execution_count": 46,
          "metadata": {},
          "output_type": "execute_result"
        }
      ],
      "source": [
        "X.head()"
      ]
    },
    {
      "cell_type": "code",
      "execution_count": 47,
      "metadata": {
        "colab": {
          "base_uri": "https://localhost:8080/"
        },
        "id": "siCLKFNUend7",
        "outputId": "c4641572-5df5-4d37-cacc-d81e46d61584"
      },
      "outputs": [
        {
          "data": {
            "text/plain": [
              "10103494901760"
            ]
          },
          "execution_count": 47,
          "metadata": {},
          "output_type": "execute_result"
        }
      ],
      "source": [
        "df.max().max()"
      ]
    },
    {
      "cell_type": "code",
      "execution_count": 48,
      "metadata": {
        "colab": {
          "base_uri": "https://localhost:8080/"
        },
        "id": "ApSvMdgXezO6",
        "outputId": "5946694a-ebe0-4a9d-8c80-c637d47f9390"
      },
      "outputs": [
        {
          "data": {
            "text/plain": [
              "0"
            ]
          },
          "execution_count": 48,
          "metadata": {},
          "output_type": "execute_result"
        }
      ],
      "source": [
        "df.min().min()"
      ]
    },
    {
      "cell_type": "code",
      "execution_count": 49,
      "metadata": {
        "colab": {
          "base_uri": "https://localhost:8080/"
        },
        "id": "aH9HPw7Ie2dE",
        "outputId": "78c4b3b6-c0a5-4605-a5e1-bc0ba149d925"
      },
      "outputs": [
        {
          "name": "stdout",
          "output_type": "stream",
          "text": [
            "Name: joblibNote: you may need to restart the kernel to use updated packages.\n",
            "\n",
            "Version: 1.4.2\n",
            "Summary: Lightweight pipelining with Python functions\n",
            "Home-page: https://joblib.readthedocs.io\n",
            "Author: \n",
            "Author-email: Gael Varoquaux <gael.varoquaux@normalesup.org>\n",
            "License: BSD 3-Clause\n",
            "Location: c:\\Users\\HP\\AppData\\Local\\Programs\\Python\\Python311\\Lib\\site-packages\n",
            "Requires: \n",
            "Required-by: pandas-profiling, phik, scikit-learn\n"
          ]
        }
      ],
      "source": [
        "pip show joblib"
      ]
    },
    {
      "cell_type": "code",
      "execution_count": 50,
      "metadata": {
        "colab": {
          "base_uri": "https://localhost:8080/"
        },
        "id": "_f1y3OjJkL3O",
        "outputId": "fbc48763-8257-4333-9b11-bea5332d5b51"
      },
      "outputs": [
        {
          "name": "stdout",
          "output_type": "stream",
          "text": [
            "Requirement already satisfied: joblib in c:\\users\\hp\\appdata\\local\\programs\\python\\python311\\lib\\site-packages (1.4.2)\n",
            "Note: you may need to restart the kernel to use updated packages.\n"
          ]
        }
      ],
      "source": [
        "pip install --upgrade joblib"
      ]
    },
    {
      "cell_type": "code",
      "execution_count": null,
      "metadata": {
        "id": "tg23xNC_kXKc"
      },
      "outputs": [],
      "source": []
    }
  ],
  "metadata": {
    "colab": {
      "provenance": []
    },
    "kernelspec": {
      "display_name": "Python 3",
      "name": "python3"
    },
    "language_info": {
      "codemirror_mode": {
        "name": "ipython",
        "version": 3
      },
      "file_extension": ".py",
      "mimetype": "text/x-python",
      "name": "python",
      "nbconvert_exporter": "python",
      "pygments_lexer": "ipython3",
      "version": "3.11.5"
    }
  },
  "nbformat": 4,
  "nbformat_minor": 0
}
